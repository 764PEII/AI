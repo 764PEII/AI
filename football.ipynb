{
 "cells": [
  {
   "cell_type": "code",
   "execution_count": 1,
   "id": "b8d09dc9",
   "metadata": {},
   "outputs": [],
   "source": [
    "import pandas as pd\n",
    "import matplotlib as plt"
   ]
  },
  {
   "cell_type": "code",
   "execution_count": 10,
   "id": "f1120547",
   "metadata": {},
   "outputs": [
    {
     "name": "stdout",
     "output_type": "stream",
     "text": [
      "<class 'pandas.core.frame.DataFrame'>\n",
      "RangeIndex: 12897 entries, 0 to 12896\n",
      "Data columns (total 42 columns):\n",
      " #   Column           Non-Null Count  Dtype \n",
      "---  ------           --------------  ----- \n",
      " 0   Unnamed: 0       12897 non-null  int64 \n",
      " 1   Name             12897 non-null  object\n",
      " 2   Age              12897 non-null  int64 \n",
      " 3   Nationality      12897 non-null  object\n",
      " 4   Club             12897 non-null  object\n",
      " 5   Value            12897 non-null  int64 \n",
      " 6   Wage             12897 non-null  int64 \n",
      " 7   Position         12897 non-null  object\n",
      " 8   Crossing         12897 non-null  int64 \n",
      " 9   Finishing        12897 non-null  int64 \n",
      " 10  HeadingAccuracy  12897 non-null  int64 \n",
      " 11  ShortPassing     12897 non-null  int64 \n",
      " 12  Volleys          12897 non-null  int64 \n",
      " 13  Dribbling        12897 non-null  int64 \n",
      " 14  Curve            12897 non-null  int64 \n",
      " 15  FKAccuracy       12897 non-null  int64 \n",
      " 16  LongPassing      12897 non-null  int64 \n",
      " 17  BallControl      12897 non-null  int64 \n",
      " 18  Acceleration     12897 non-null  int64 \n",
      " 19  SprintSpeed      12897 non-null  int64 \n",
      " 20  Agility          12897 non-null  int64 \n",
      " 21  Reactions        12897 non-null  int64 \n",
      " 22  Balance          12897 non-null  int64 \n",
      " 23  ShotPower        12897 non-null  int64 \n",
      " 24  Jumping          12897 non-null  int64 \n",
      " 25  Stamina          12897 non-null  int64 \n",
      " 26  Strength         12897 non-null  int64 \n",
      " 27  LongShots        12897 non-null  int64 \n",
      " 28  Aggression       12897 non-null  int64 \n",
      " 29  Interceptions    12897 non-null  int64 \n",
      " 30  Positioning      12897 non-null  int64 \n",
      " 31  Vision           12897 non-null  int64 \n",
      " 32  Penalties        12897 non-null  int64 \n",
      " 33  Composure        12897 non-null  int64 \n",
      " 34  Marking          12897 non-null  int64 \n",
      " 35  StandingTackle   12897 non-null  int64 \n",
      " 36  SlidingTackle    12897 non-null  int64 \n",
      " 37  GKDiving         12897 non-null  int64 \n",
      " 38  GKHandling       12897 non-null  int64 \n",
      " 39  GKKicking        12897 non-null  int64 \n",
      " 40  GKPositioning    12897 non-null  int64 \n",
      " 41  GKReflexes       12897 non-null  int64 \n",
      "dtypes: int64(38), object(4)\n",
      "memory usage: 4.1+ MB\n"
     ]
    },
    {
     "data": {
      "text/plain": [
       "None"
      ]
     },
     "metadata": {},
     "output_type": "display_data"
    }
   ],
   "source": [
    "football = pd.read_csv('football.csv')\n",
    "display(football.info())"
   ]
  },
  {
   "cell_type": "code",
   "execution_count": 11,
   "id": "41208e71",
   "metadata": {},
   "outputs": [
    {
     "name": "stdout",
     "output_type": "stream",
     "text": [
      "<class 'pandas.core.frame.DataFrame'>\n",
      "RangeIndex: 12897 entries, 0 to 12896\n",
      "Data columns (total 42 columns):\n",
      " #   Column           Non-Null Count  Dtype \n",
      "---  ------           --------------  ----- \n",
      " 0   Unnamed: 0       12897 non-null  int64 \n",
      " 1   Name             12897 non-null  object\n",
      " 2   Age              12897 non-null  int64 \n",
      " 3   Nationality      12897 non-null  object\n",
      " 4   Club             12897 non-null  object\n",
      " 5   Value            12897 non-null  int64 \n",
      " 6   Wage             12897 non-null  int64 \n",
      " 7   Position         12897 non-null  object\n",
      " 8   Crossing         12897 non-null  int64 \n",
      " 9   Finishing        12897 non-null  int64 \n",
      " 10  HeadingAccuracy  12897 non-null  int64 \n",
      " 11  ShortPassing     12897 non-null  int64 \n",
      " 12  Volleys          12897 non-null  int64 \n",
      " 13  Dribbling        12897 non-null  int64 \n",
      " 14  Curve            12897 non-null  int64 \n",
      " 15  FKAccuracy       12897 non-null  int64 \n",
      " 16  LongPassing      12897 non-null  int64 \n",
      " 17  BallControl      12897 non-null  int64 \n",
      " 18  Acceleration     12897 non-null  int64 \n",
      " 19  SprintSpeed      12897 non-null  int64 \n",
      " 20  Agility          12897 non-null  int64 \n",
      " 21  Reactions        12897 non-null  int64 \n",
      " 22  Balance          12897 non-null  int64 \n",
      " 23  ShotPower        12897 non-null  int64 \n",
      " 24  Jumping          12897 non-null  int64 \n",
      " 25  Stamina          12897 non-null  int64 \n",
      " 26  Strength         12897 non-null  int64 \n",
      " 27  LongShots        12897 non-null  int64 \n",
      " 28  Aggression       12897 non-null  int64 \n",
      " 29  Interceptions    12897 non-null  int64 \n",
      " 30  Positioning      12897 non-null  int64 \n",
      " 31  Vision           12897 non-null  int64 \n",
      " 32  Penalties        12897 non-null  int64 \n",
      " 33  Composure        12897 non-null  int64 \n",
      " 34  Marking          12897 non-null  int64 \n",
      " 35  StandingTackle   12897 non-null  int64 \n",
      " 36  SlidingTackle    12897 non-null  int64 \n",
      " 37  GKDiving         12897 non-null  int64 \n",
      " 38  GKHandling       12897 non-null  int64 \n",
      " 39  GKKicking        12897 non-null  int64 \n",
      " 40  GKPositioning    12897 non-null  int64 \n",
      " 41  GKReflexes       12897 non-null  int64 \n",
      "dtypes: int64(38), object(4)\n",
      "memory usage: 4.1+ MB\n"
     ]
    },
    {
     "data": {
      "text/plain": [
       "None"
      ]
     },
     "metadata": {},
     "output_type": "display_data"
    }
   ],
   "source": [
    "# здесь нет пропусков и нечего заполнять, но делается это вот так \n",
    "filter = football['Balance'].value_counts().index[0]\n",
    "football['Balance'] = football['Balance'].fillna(filter)\n",
    "display(football.info())\n"
   ]
  },
  {
   "cell_type": "code",
   "execution_count": null,
   "id": "c0d23723",
   "metadata": {},
   "outputs": [],
   "source": [
    "football['Aggression'].value_counts().plot(kind = 'bar', )\n",
    "plt.title('Агрессия')\n",
    "# По графику мы видим, что общий уровень агрессии средний,однако есть экземпляры с повышенной агрессией. Ниже представлены люди с повышенной агрессией\n",
    "\n"
   ]
  },
  {
   "cell_type": "code",
   "execution_count": null,
   "id": "3a041071",
   "metadata": {},
   "outputs": [],
   "source": [
    "football[football['Aggression']>football['Aggression'].mean()].T"
   ]
  },
  {
   "cell_type": "code",
   "execution_count": null,
   "id": "a320d9b9",
   "metadata": {},
   "outputs": [],
   "source": [
    "football['Jumping'].value_counts().plot(kind = 'bar', )\n",
    "plt.title('Прыжки')\n",
    "# Мы видим, что высота прыжков у спортсменов неравномерна. График условно можно разделить на три примерно равные части: высокие прыжки, низкие прыжки и средние. Ниже представлены максимальная и минимальная величина прыжка\n",
    "\n"
   ]
  },
  {
   "cell_type": "code",
   "execution_count": null,
   "id": "d3b751ea",
   "metadata": {},
   "outputs": [],
   "source": [
    "football['Jumping'].max()\n",
    "\n",
    "\n",
    "football['Jumping'].min()"
   ]
  },
  {
   "cell_type": "code",
   "execution_count": null,
   "id": "88f018fc",
   "metadata": {},
   "outputs": [],
   "source": [
    "football['Age'].value_counts().plot(kind = 'bar', )\n",
    "plt.title('Возраст')\n",
    "# Данный график условно можно поделить пополам. Мы видим, что больше всего людей в возрасте 19-27, это первая половина графика. Вторая -- молодые и в возрасте, меньше всего людей после 40. Ниже представлены данные о людях старше и младше самого популярного значения\n"
   ]
  },
  {
   "cell_type": "code",
   "execution_count": null,
   "id": "b3622f9f",
   "metadata": {},
   "outputs": [],
   "source": [
    " football[football['Age']<football['Age'].value_counts().index[0]]\n",
    "\n",
    "\n",
    "football[football['Age']>football['Age'].value_counts().index[0]]"
   ]
  },
  {
   "cell_type": "code",
   "execution_count": null,
   "id": "0025d606",
   "metadata": {},
   "outputs": [],
   "source": []
  },
  {
   "cell_type": "code",
   "execution_count": null,
   "id": "8b1f4468",
   "metadata": {},
   "outputs": [],
   "source": []
  },
  {
   "cell_type": "code",
   "execution_count": null,
   "id": "8c815fbc",
   "metadata": {},
   "outputs": [],
   "source": []
  }
 ],
 "metadata": {
  "kernelspec": {
   "display_name": "Python 3 (ipykernel)",
   "language": "python",
   "name": "python3"
  },
  "language_info": {
   "codemirror_mode": {
    "name": "ipython",
    "version": 3
   },
   "file_extension": ".py",
   "mimetype": "text/x-python",
   "name": "python",
   "nbconvert_exporter": "python",
   "pygments_lexer": "ipython3",
   "version": "3.9.12"
  }
 },
 "nbformat": 4,
 "nbformat_minor": 5
}
